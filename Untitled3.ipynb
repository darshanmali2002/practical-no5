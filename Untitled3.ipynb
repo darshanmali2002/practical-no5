{
  "nbformat": 4,
  "nbformat_minor": 0,
  "metadata": {
    "colab": {
      "name": "Untitled3.ipynb",
      "provenance": []
    },
    "kernelspec": {
      "name": "python3",
      "display_name": "Python 3"
    },
    "language_info": {
      "name": "python"
    }
  },
  "cells": [
    {
      "cell_type": "markdown",
      "source": [
        "Write a program to create,append,and remove list in python "
      ],
      "metadata": {
        "id": "Mk2YAAgXdCS1"
      }
    },
    {
      "cell_type": "code",
      "source": [
        "#create append and remove list \n",
        "#append()\n",
        "list=[20,30,40];\n",
        "print(\"initially list is :\",list,end=\"\");\n",
        "list.append(50)\n",
        "print(\"list after appending 50:\",list ,end=\"\");\n",
        "list.append(60)\n",
        "print(\"list after appending 60:\",list ,end=\"\");\n",
        "list.remove(30)\n",
        "print(\"list after appending 30:\",list ,end=\"\");"
      ],
      "metadata": {
        "colab": {
          "base_uri": "https://localhost:8080/"
        },
        "id": "LO65VLFtdg_1",
        "outputId": "bc5e1947-0b63-473e-c75f-7fd9ba5c76c0"
      },
      "execution_count": 4,
      "outputs": [
        {
          "output_type": "stream",
          "name": "stdout",
          "text": [
            "initially list is : [20, 30, 40]list after appending 50: [20, 30, 40, 50]list after appending 60: [20, 30, 40, 50, 60]list after appending 30: [20, 40, 50, 60]"
          ]
        }
      ]
    }
  ]
}